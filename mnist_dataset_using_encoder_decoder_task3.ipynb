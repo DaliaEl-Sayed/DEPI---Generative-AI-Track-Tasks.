{
  "nbformat": 4,
  "nbformat_minor": 0,
  "metadata": {
    "colab": {
      "provenance": [],
      "gpuType": "T4",
      "authorship_tag": "ABX9TyOM7CTqjmLNR8397XNPt36w",
      "include_colab_link": true
    },
    "kernelspec": {
      "name": "python3",
      "display_name": "Python 3"
    },
    "language_info": {
      "name": "python"
    },
    "accelerator": "GPU"
  },
  "cells": [
    {
      "cell_type": "markdown",
      "metadata": {
        "id": "view-in-github",
        "colab_type": "text"
      },
      "source": [
        "<a href=\"https://colab.research.google.com/github/DaliaEl-Sayed/DEPI---Generative-AI-Track-Tasks./blob/main/mnist_dataset_using_encoder_decoder_task3.ipynb\" target=\"_parent\"><img src=\"https://colab.research.google.com/assets/colab-badge.svg\" alt=\"Open In Colab\"/></a>"
      ]
    },
    {
      "cell_type": "code",
      "execution_count": 45,
      "metadata": {
        "id": "AwjWemIBatuK"
      },
      "outputs": [],
      "source": [
        "from keras.datasets import mnist\n",
        "import numpy as np\n",
        "from keras.layers import Input, Dense, Conv2D, MaxPooling2D, UpSampling2D\n",
        "from keras.models import Model\n",
        "\n",
        "# Load the MNIST dataset\n",
        "(X_train, y_train), (X_test, y_test) = mnist.load_data()\n"
      ]
    },
    {
      "cell_type": "code",
      "source": [
        "# Normalize the input data\n",
        "X_train = X_train / 255.0\n",
        "X_test = X_test / 255.0\n",
        "\n",
        "# Reshape the data to 2D images\n",
        "X_train = X_train.reshape(-1, 28, 28, 1)\n",
        "X_test = X_test.reshape(-1, 28, 28, 1)"
      ],
      "metadata": {
        "id": "k73LbkE5b3ox"
      },
      "execution_count": 46,
      "outputs": []
    },
    {
      "cell_type": "code",
      "source": [
        "import matplotlib.pyplot as plt\n",
        "\n",
        "# Display a sample image\n",
        "sample_index = np.random.randint(0, len(X_train))\n",
        "sample_image = X_train[sample_index]\n",
        "sample_label = y_train[sample_index]\n",
        "\n",
        "plt.figure(figsize=(4, 4))\n",
        "plt.imshow(sample_image.squeeze(), cmap='gray')\n",
        "plt.title(f\"Label: {sample_label}\")\n",
        "plt.axis('off')\n",
        "plt.show()"
      ],
      "metadata": {
        "colab": {
          "base_uri": "https://localhost:8080/",
          "height": 367
        },
        "id": "tNPozYx5da1m",
        "outputId": "aa51cc84-9111-4a6b-ee7e-93fc81e9ba80"
      },
      "execution_count": 47,
      "outputs": [
        {
          "output_type": "display_data",
          "data": {
            "text/plain": [
              "<Figure size 400x400 with 1 Axes>"
            ],
            "image/png": "[encoded data removed]"
          },
          "metadata": {}
        }
      ]
    },
    {
      "cell_type": "code",
      "source": [
        "# Add noise to the training images\n",
        "noise_factor = 0.3\n",
        "X_train_noisy = X_train + noise_factor * np.random.normal(loc=0.0, scale=1.0, size=X_train.shape)\n",
        "X_train_noisy = np.clip(X_train_noisy, 0., 1.)\n",
        "X_test_noisy = X_test + noise_factor * np.random.normal(loc=0.0, scale=1.0, size=X_test.shape)\n",
        "X_test_noisy = np.clip(X_test_noisy, 0., 1.)"
      ],
      "metadata": {
        "id": "ERKH-PcHbBEn"
      },
      "execution_count": 48,
      "outputs": []
    },
    {
      "cell_type": "code",
      "source": [
        "# Display a noise image\n",
        "sample_index = np.random.randint(0, len(X_train))\n",
        "sample_image = X_train_noisy[sample_index]\n",
        "sample_label = y_train[sample_index]\n",
        "\n",
        "plt.figure(figsize=(4, 4))\n",
        "plt.imshow(sample_image.squeeze(), cmap='gray')\n",
        "plt.title(f\"Label: {sample_label}\")\n",
        "plt.axis('off')\n",
        "plt.show()"
      ],
      "metadata": {
        "colab": {
          "base_uri": "https://localhost:8080/",
          "height": 367
        },
        "id": "-naXh3cOevwm",
        "outputId": "c15cd36a-92fd-4e4e-bb60-e16232ed7c35"
      },
      "execution_count": 49,
      "outputs": [
        {
          "output_type": "display_data",
          "data": {
            "text/plain": [
              "<Figure size 400x400 with 1 Axes>"
            ],
            "image/png": "[encoded data removed]"
          },
          "metadata": {}
        }
      ]
    },
    {
      "cell_type": "code",
      "source": [
        "# Define the autoencoder model\n",
        "input_img = Input(shape=(28, 28, 1))\n",
        "\n",
        "# Encoder\n",
        "x = Conv2D(16, (3, 3), activation='relu', padding='same')(input_img)\n",
        "x = MaxPooling2D((2, 2), padding='same')(x)\n",
        "x = Conv2D(8, (3, 3), activation='relu', padding='same')(x)\n",
        "x = MaxPooling2D((2, 2), padding='same')(x)\n",
        "x = Conv2D(8, (3, 3), activation='relu', padding='same')(x)\n",
        "encoded = MaxPooling2D((2, 2), padding='same')(x)\n",
        "\n",
        "# Decoder\n",
        "x = Conv2D(8, (3, 3), activation='relu', padding='same')(encoded)\n",
        "x = UpSampling2D((2, 2))(x)\n",
        "x = Conv2D(8, (3, 3), activation='relu', padding='same')(x)\n",
        "x = UpSampling2D((2, 2))(x)\n",
        "x = Conv2D(16, (3, 3), activation='relu')(x)\n",
        "x = UpSampling2D((2, 2))(x)\n",
        "decoded = Conv2D(1, (3, 3), activation='sigmoid', padding='same')(x)\n",
        "\n",
        "# Define the autoencoder model\n",
        "autoencoder = Model(input_img, decoded)\n",
        "autoencoder.compile(optimizer='adam', loss='binary_crossentropy')\n"
      ],
      "metadata": {
        "id": "wSOMIO7XgdjT"
      },
      "execution_count": 50,
      "outputs": []
    },
    {
      "cell_type": "code",
      "source": [
        "# Train the autoencoder\n",
        "autoencoder.fit(X_train_noisy, X_train,\n",
        "                epochs=50,\n",
        "                batch_size=128,\n",
        "                shuffle=True,\n",
        "                validation_data=(X_test_noisy, X_test))\n"
      ],
      "metadata": {
        "colab": {
          "base_uri": "https://localhost:8080/"
        },
        "id": "aN-x3Z2zgeK9",
        "outputId": "8f541817-9a4e-4706-ff04-db8a81ae3ee6"
      },
      "execution_count": 51,
      "outputs": [
        {
          "output_type": "stream",
          "name": "stdout",
          "text": [
            "Epoch 1/50\n",
            "469/469 [==============================] - 10s 8ms/step - loss: 0.2268 - val_loss: 0.1685\n",
            "Epoch 2/50\n",
            "469/469 [==============================] - 4s 8ms/step - loss: 0.1569 - val_loss: 0.1454\n",
            "Epoch 3/50\n",
            "469/469 [==============================] - 3s 6ms/step - loss: 0.1399 - val_loss: 0.1335\n",
            "Epoch 4/50\n",
            "469/469 [==============================] - 3s 6ms/step - loss: 0.1309 - val_loss: 0.1272\n",
            "Epoch 5/50\n",
            "469/469 [==============================] - 3s 6ms/step - loss: 0.1257 - val_loss: 0.1224\n",
            "Epoch 6/50\n",
            "469/469 [==============================] - 4s 8ms/step - loss: 0.1222 - val_loss: 0.1199\n",
            "Epoch 7/50\n",
            "469/469 [==============================] - 3s 6ms/step - loss: 0.1197 - val_loss: 0.1174\n",
            "Epoch 8/50\n",
            "469/469 [==============================] - 3s 6ms/step - loss: 0.1176 - val_loss: 0.1158\n",
            "Epoch 9/50\n",
            "469/469 [==============================] - 3s 6ms/step - loss: 0.1160 - val_loss: 0.1143\n",
            "Epoch 10/50\n",
            "469/469 [==============================] - 4s 9ms/step - loss: 0.1147 - val_loss: 0.1129\n",
            "Epoch 11/50\n",
            "469/469 [==============================] - 3s 7ms/step - loss: 0.1135 - val_loss: 0.1125\n",
            "Epoch 12/50\n",
            "469/469 [==============================] - 3s 6ms/step - loss: 0.1125 - val_loss: 0.1109\n",
            "Epoch 13/50\n",
            "469/469 [==============================] - 3s 6ms/step - loss: 0.1117 - val_loss: 0.1105\n",
            "Epoch 14/50\n",
            "469/469 [==============================] - 4s 8ms/step - loss: 0.1109 - val_loss: 0.1092\n",
            "Epoch 15/50\n",
            "469/469 [==============================] - 3s 6ms/step - loss: 0.1103 - val_loss: 0.1093\n",
            "Epoch 16/50\n",
            "469/469 [==============================] - 3s 6ms/step - loss: 0.1097 - val_loss: 0.1080\n",
            "Epoch 17/50\n",
            "469/469 [==============================] - 3s 6ms/step - loss: 0.1091 - val_loss: 0.1081\n",
            "Epoch 18/50\n",
            "469/469 [==============================] - 3s 7ms/step - loss: 0.1087 - val_loss: 0.1070\n",
            "Epoch 19/50\n",
            "469/469 [==============================] - 3s 7ms/step - loss: 0.1081 - val_loss: 0.1067\n",
            "Epoch 20/50\n",
            "469/469 [==============================] - 4s 8ms/step - loss: 0.1077 - val_loss: 0.1065\n",
            "Epoch 21/50\n",
            "469/469 [==============================] - 3s 6ms/step - loss: 0.1073 - val_loss: 0.1058\n",
            "Epoch 22/50\n",
            "469/469 [==============================] - 4s 8ms/step - loss: 0.1069 - val_loss: 0.1053\n",
            "Epoch 23/50\n",
            "469/469 [==============================] - 3s 6ms/step - loss: 0.1066 - val_loss: 0.1058\n",
            "Epoch 24/50\n",
            "469/469 [==============================] - 3s 6ms/step - loss: 0.1063 - val_loss: 0.1048\n",
            "Epoch 25/50\n",
            "469/469 [==============================] - 3s 6ms/step - loss: 0.1060 - val_loss: 0.1048\n",
            "Epoch 26/50\n",
            "469/469 [==============================] - 3s 7ms/step - loss: 0.1057 - val_loss: 0.1042\n",
            "Epoch 27/50\n",
            "469/469 [==============================] - 3s 6ms/step - loss: 0.1054 - val_loss: 0.1064\n",
            "Epoch 28/50\n",
            "469/469 [==============================] - 3s 6ms/step - loss: 0.1052 - val_loss: 0.1036\n",
            "Epoch 29/50\n",
            "469/469 [==============================] - 3s 6ms/step - loss: 0.1049 - val_loss: 0.1035\n",
            "Epoch 30/50\n",
            "469/469 [==============================] - 3s 7ms/step - loss: 0.1046 - val_loss: 0.1033\n",
            "Epoch 31/50\n",
            "469/469 [==============================] - 3s 7ms/step - loss: 0.1044 - val_loss: 0.1033\n",
            "Epoch 32/50\n",
            "469/469 [==============================] - 3s 6ms/step - loss: 0.1041 - val_loss: 0.1028\n",
            "Epoch 33/50\n",
            "469/469 [==============================] - 3s 6ms/step - loss: 0.1039 - val_loss: 0.1031\n",
            "Epoch 34/50\n",
            "469/469 [==============================] - 3s 6ms/step - loss: 0.1037 - val_loss: 0.1023\n",
            "Epoch 35/50\n",
            "469/469 [==============================] - 4s 8ms/step - loss: 0.1035 - val_loss: 0.1024\n",
            "Epoch 36/50\n",
            "469/469 [==============================] - 3s 6ms/step - loss: 0.1033 - val_loss: 0.1022\n",
            "Epoch 37/50\n",
            "469/469 [==============================] - 3s 6ms/step - loss: 0.1032 - val_loss: 0.1023\n",
            "Epoch 38/50\n",
            "469/469 [==============================] - 3s 6ms/step - loss: 0.1030 - val_loss: 0.1020\n",
            "Epoch 39/50\n",
            "469/469 [==============================] - 3s 7ms/step - loss: 0.1029 - val_loss: 0.1019\n",
            "Epoch 40/50\n",
            "469/469 [==============================] - 3s 7ms/step - loss: 0.1027 - val_loss: 0.1016\n",
            "Epoch 41/50\n",
            "469/469 [==============================] - 3s 6ms/step - loss: 0.1025 - val_loss: 0.1014\n",
            "Epoch 42/50\n",
            "469/469 [==============================] - 3s 6ms/step - loss: 0.1024 - val_loss: 0.1011\n",
            "Epoch 43/50\n",
            "469/469 [==============================] - 3s 7ms/step - loss: 0.1023 - val_loss: 0.1012\n",
            "Epoch 44/50\n",
            "469/469 [==============================] - 3s 7ms/step - loss: 0.1022 - val_loss: 0.1014\n",
            "Epoch 45/50\n",
            "469/469 [==============================] - 3s 6ms/step - loss: 0.1021 - val_loss: 0.1008\n",
            "Epoch 46/50\n",
            "469/469 [==============================] - 3s 6ms/step - loss: 0.1020 - val_loss: 0.1006\n",
            "Epoch 47/50\n",
            "469/469 [==============================] - 3s 6ms/step - loss: 0.1020 - val_loss: 0.1006\n",
            "Epoch 48/50\n",
            "469/469 [==============================] - 4s 8ms/step - loss: 0.1017 - val_loss: 0.1006\n",
            "Epoch 49/50\n",
            "469/469 [==============================] - 3s 6ms/step - loss: 0.1017 - val_loss: 0.1006\n",
            "Epoch 50/50\n",
            "469/469 [==============================] - 3s 6ms/step - loss: 0.1016 - val_loss: 0.1005\n"
          ]
        },
        {
          "output_type": "execute_result",
          "data": {
            "text/plain": [
              "<keras.src.callbacks.History at 0x7db2bb2eefe0>"
            ]
          },
          "metadata": {},
          "execution_count": 51
        }
      ]
    },
    {
      "cell_type": "code",
      "source": [
        "# Denoise a sample image\n",
        "sample_index = 0\n",
        "noisy_image = X_test_noisy[sample_index]\n",
        "original_image = X_test[sample_index]\n",
        "denoised_image = autoencoder.predict(noisy_image.reshape(1, 28, 28, 1))[0]\n"
      ],
      "metadata": {
        "colab": {
          "base_uri": "https://localhost:8080/"
        },
        "id": "0UCuNdvRi-n3",
        "outputId": "68006388-6aa3-4bea-ee68-46614f7f0411"
      },
      "execution_count": 52,
      "outputs": [
        {
          "output_type": "stream",
          "name": "stdout",
          "text": [
            "1/1 [==============================] - 2s 2s/step\n"
          ]
        }
      ]
    },
    {
      "cell_type": "code",
      "source": [
        "# Display the results\n",
        "fig, axes = plt.subplots(1, 3, figsize=(12, 4))\n",
        "\n",
        "axes[0].imshow(noisy_image, cmap='gray')\n",
        "axes[0].set_title('Noisy Image')\n",
        "axes[0].axis('off')\n",
        "\n",
        "axes[1].imshow(original_image, cmap='gray')\n",
        "axes[1].set_title('Original Image')\n",
        "axes[1].axis('off')\n",
        "\n",
        "axes[2].imshow(denoised_image, cmap='gray')\n",
        "axes[2].set_title('Denoised Image')\n",
        "axes[2].axis('off')\n",
        "\n",
        "plt.show()"
      ],
      "metadata": {
        "colab": {
          "base_uri": "https://localhost:8080/",
          "height": 332
        },
        "id": "m0Z7gcQ7jBht",
        "outputId": "8735fc29-757d-4aee-d15e-521fc0fd4f6f"
      },
      "execution_count": 53,
      "outputs": [
        {
          "output_type": "display_data",
          "data": {
            "text/plain": [
              "<Figure size 1200x400 with 3 Axes>"
            ],
            "image/png": "[encoded data removed]"
          },
          "metadata": {}
        }
      ]
    }
  ]
}