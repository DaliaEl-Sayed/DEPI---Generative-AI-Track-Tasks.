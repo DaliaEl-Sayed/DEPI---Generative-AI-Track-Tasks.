{
  "nbformat": 4,
  "nbformat_minor": 0,
  "metadata": {
    "colab": {
      "provenance": [],
      "gpuType": "T4",
      "authorship_tag": "ABX9TyOCaPWBKNx9SyM5oiQFDZcc",
      "include_colab_link": true
    },
    "kernelspec": {
      "name": "python3",
      "display_name": "Python 3"
    },
    "language_info": {
      "name": "python"
    },
    "accelerator": "GPU"
  },
  "cells": [
    {
      "cell_type": "markdown",
      "metadata": {
        "id": "view-in-github",
        "colab_type": "text"
      },
      "source": [
        "<a href=\"https://colab.research.google.com/github/DaliaEl-Sayed/DEPI---Generative-AI-Track-Tasks./blob/main/mnist_dataset_using_encoder_decoder_task3.ipynb\" target=\"_parent\"><img src=\"https://colab.research.google.com/assets/colab-badge.svg\" alt=\"Open In Colab\"/></a>"
      ]
    },
    {
      "cell_type": "code",
      "execution_count": 38,
      "metadata": {
        "id": "AwjWemIBatuK"
      },
      "outputs": [],
      "source": [
        "from keras.datasets import mnist\n",
        "import numpy as np\n",
        "from keras.layers import Input, Dense, Conv2D, MaxPooling2D, UpSampling2D\n",
        "from keras.models import Model\n",
        "import matplotlib.pyplot as plt\n",
        "from keras.models import Sequential, Model\n",
        "\n",
        "\n",
        "# Load the MNIST dataset\n",
        "(X_train, y_train), (X_test, y_test) = mnist.load_data()\n"
      ]
    },
    {
      "cell_type": "code",
      "source": [
        "# Normalize the input data\n",
        "X_train = X_train / 255.0\n",
        "X_test = X_test / 255.0\n",
        "\n",
        "# Reshape the data to 2D images\n",
        "X_train = X_train.reshape(-1, 28, 28, 1)\n",
        "X_test = X_test.reshape(-1, 28, 28, 1)"
      ],
      "metadata": {
        "id": "k73LbkE5b3ox"
      },
      "execution_count": 39,
      "outputs": []
    },
    {
      "cell_type": "code",
      "source": [
        "print(f\"X_train shape: {X_train.shape}\")\n",
        "print(f\"X_test shape: {X_test.shape}\")\n",
        "# Display a sample image\n",
        "sample_index = np.random.randint(0, len(X_train))\n",
        "sample_image = X_train[sample_index]\n",
        "sample_label = y_train[sample_index]\n",
        "\n",
        "plt.figure(figsize=(4, 4))\n",
        "plt.imshow(sample_image.squeeze(), cmap='gray')\n",
        "plt.title(f\"Label: {sample_label}\")\n",
        "plt.axis('off')\n",
        "plt.show()"
      ],
      "metadata": {
        "colab": {
          "base_uri": "https://localhost:8080/",
          "height": 402
        },
        "id": "tNPozYx5da1m",
        "outputId": "bf30dd53-1129-4e58-a42a-ae9fd3e19640"
      },
      "execution_count": 40,
      "outputs": [
        {
          "output_type": "stream",
          "name": "stdout",
          "text": [
            "X_train shape: (60000, 28, 28, 1)\n",
            "X_test shape: (10000, 28, 28, 1)\n"
          ]
        },
        {
          "output_type": "display_data",
          "data": {
            "text/plain": [
              "<Figure size 400x400 with 1 Axes>"
            ],
            "image/png": "[encoded data removed]"
          },
          "metadata": {}
        }
      ]
    },
    {
      "cell_type": "code",
      "source": [
        "# Add noise to the training images\n",
        "noise_factor = 0.3\n",
        "X_train_noisy = X_train + noise_factor * np.random.normal(loc=0.0, scale=1.0, size=X_train.shape)\n",
        "X_train_noisy = np.clip(X_train_noisy, 0., 1.)\n",
        "X_test_noisy = X_test + noise_factor * np.random.normal(loc=0.0, scale=1.0, size=X_test.shape)\n",
        "X_test_noisy = np.clip(X_test_noisy, 0., 1.)"
      ],
      "metadata": {
        "id": "ERKH-PcHbBEn"
      },
      "execution_count": 41,
      "outputs": []
    },
    {
      "cell_type": "code",
      "source": [
        "# Display a noise image\n",
        "sample_index = np.random.randint(0, len(X_train))\n",
        "sample_image = X_train_noisy[sample_index]\n",
        "sample_label = y_train[sample_index]\n",
        "\n",
        "plt.figure(figsize=(4, 4))\n",
        "plt.imshow(sample_image.squeeze(), cmap='gray')\n",
        "plt.title(f\"Label: {sample_label}\")\n",
        "plt.axis('off')\n",
        "plt.show()"
      ],
      "metadata": {
        "colab": {
          "base_uri": "https://localhost:8080/",
          "height": 367
        },
        "id": "-naXh3cOevwm",
        "outputId": "72640a75-be8e-4c98-ed1a-a4d41080d320"
      },
      "execution_count": 42,
      "outputs": [
        {
          "output_type": "display_data",
          "data": {
            "text/plain": [
              "<Figure size 400x400 with 1 Axes>"
            ],
            "image/png": "[encoded data removed]"
          },
          "metadata": {}
        }
      ]
    },
    {
      "cell_type": "code",
      "source": [
        "# Flatten the input images\n",
        "X_train_flat = X_train_noisy.reshape(X_train_noisy.shape[0], -1)\n",
        "X_test_flat = X_test_noisy.reshape(X_test_noisy.shape[0], -1)\n",
        "\n",
        "# Define the encoder-decoder model\n",
        "input_size = 784  # 28x28 flattened image\n",
        "encoding_size_1 = 128  # Size of the encoded representation 1\n",
        "encoding_size_2 = 64   # Size of the encoded representation 2\n",
        "encoding_size_3 = 32   # Size of the encoded representation 3\n",
        "\n",
        "# Encoder\n",
        "encoder_input = Input(shape=(input_size,))\n",
        "encoded = Dense(encoding_size_1, activation='relu')(encoder_input)\n",
        "encoded = Dense(encoding_size_2, activation='relu')(encoded)\n",
        "encoded = Dense(encoding_size_3, activation='relu')(encoded)\n",
        "encoder = Model(encoder_input, encoded)\n",
        "\n",
        "# Decoder\n",
        "decoder_input = Input(shape=(encoding_size_3,))\n",
        "decoded = Dense(encoding_size_2, activation='relu')(decoder_input)\n",
        "decoded = Dense(encoding_size_1, activation='relu')(decoded)\n",
        "decoded = Dense(input_size, activation='sigmoid')(decoded)\n",
        "decoder = Model(decoder_input, decoded)\n",
        "\n",
        "# Combined model\n",
        "autoencoder = Sequential()\n",
        "autoencoder.add(encoder)\n",
        "autoencoder.add(decoder)\n",
        "\n",
        "# Compile the model\n",
        "autoencoder.compile(optimizer='adam', loss='binary_crossentropy')\n",
        "\n",
        "\n"
      ],
      "metadata": {
        "id": "wSOMIO7XgdjT"
      },
      "execution_count": 43,
      "outputs": []
    },
    {
      "cell_type": "code",
      "source": [
        "# Train the model\n",
        "autoencoder.fit(X_train_flat, X_train_flat,\n",
        "                epochs=50,\n",
        "                batch_size=128,\n",
        "                shuffle=True,\n",
        "                validation_data=(X_test_flat, X_test_flat))\n"
      ],
      "metadata": {
        "colab": {
          "base_uri": "https://localhost:8080/"
        },
        "id": "aN-x3Z2zgeK9",
        "outputId": "87aad409-9aad-4013-80de-8129459e7376"
      },
      "execution_count": 44,
      "outputs": [
        {
          "output_type": "stream",
          "name": "stdout",
          "text": [
            "Epoch 1/50\n",
            "469/469 [==============================] - 5s 6ms/step - loss: 0.4608 - val_loss: 0.4340\n",
            "Epoch 2/50\n",
            "469/469 [==============================] - 2s 4ms/step - loss: 0.4289 - val_loss: 0.4235\n",
            "Epoch 3/50\n",
            "469/469 [==============================] - 2s 4ms/step - loss: 0.4211 - val_loss: 0.4175\n",
            "Epoch 4/50\n",
            "469/469 [==============================] - 2s 4ms/step - loss: 0.4172 - val_loss: 0.4155\n",
            "Epoch 5/50\n",
            "469/469 [==============================] - 2s 4ms/step - loss: 0.4150 - val_loss: 0.4131\n",
            "Epoch 6/50\n",
            "469/469 [==============================] - 2s 5ms/step - loss: 0.4133 - val_loss: 0.4118\n",
            "Epoch 7/50\n",
            "469/469 [==============================] - 2s 5ms/step - loss: 0.4120 - val_loss: 0.4106\n",
            "Epoch 8/50\n",
            "469/469 [==============================] - 2s 4ms/step - loss: 0.4110 - val_loss: 0.4103\n",
            "Epoch 9/50\n",
            "469/469 [==============================] - 2s 5ms/step - loss: 0.4103 - val_loss: 0.4093\n",
            "Epoch 10/50\n",
            "469/469 [==============================] - 2s 4ms/step - loss: 0.4098 - val_loss: 0.4089\n",
            "Epoch 11/50\n",
            "469/469 [==============================] - 2s 4ms/step - loss: 0.4094 - val_loss: 0.4085\n",
            "Epoch 12/50\n",
            "469/469 [==============================] - 2s 5ms/step - loss: 0.4090 - val_loss: 0.4084\n",
            "Epoch 13/50\n",
            "469/469 [==============================] - 3s 5ms/step - loss: 0.4087 - val_loss: 0.4079\n",
            "Epoch 14/50\n",
            "469/469 [==============================] - 2s 4ms/step - loss: 0.4082 - val_loss: 0.4076\n",
            "Epoch 15/50\n",
            "469/469 [==============================] - 2s 4ms/step - loss: 0.4079 - val_loss: 0.4070\n",
            "Epoch 16/50\n",
            "469/469 [==============================] - 2s 5ms/step - loss: 0.4076 - val_loss: 0.4072\n",
            "Epoch 17/50\n",
            "469/469 [==============================] - 2s 4ms/step - loss: 0.4074 - val_loss: 0.4067\n",
            "Epoch 18/50\n",
            "469/469 [==============================] - 3s 5ms/step - loss: 0.4071 - val_loss: 0.4065\n",
            "Epoch 19/50\n",
            "469/469 [==============================] - 2s 5ms/step - loss: 0.4070 - val_loss: 0.4064\n",
            "Epoch 20/50\n",
            "469/469 [==============================] - 2s 4ms/step - loss: 0.4068 - val_loss: 0.4063\n",
            "Epoch 21/50\n",
            "469/469 [==============================] - 2s 4ms/step - loss: 0.4067 - val_loss: 0.4061\n",
            "Epoch 22/50\n",
            "469/469 [==============================] - 2s 5ms/step - loss: 0.4065 - val_loss: 0.4059\n",
            "Epoch 23/50\n",
            "469/469 [==============================] - 2s 5ms/step - loss: 0.4064 - val_loss: 0.4058\n",
            "Epoch 24/50\n",
            "469/469 [==============================] - 3s 6ms/step - loss: 0.4063 - val_loss: 0.4057\n",
            "Epoch 25/50\n",
            "469/469 [==============================] - 2s 4ms/step - loss: 0.4061 - val_loss: 0.4055\n",
            "Epoch 26/50\n",
            "469/469 [==============================] - 2s 5ms/step - loss: 0.4060 - val_loss: 0.4056\n",
            "Epoch 27/50\n",
            "469/469 [==============================] - 2s 5ms/step - loss: 0.4059 - val_loss: 0.4053\n",
            "Epoch 28/50\n",
            "469/469 [==============================] - 2s 4ms/step - loss: 0.4058 - val_loss: 0.4054\n",
            "Epoch 29/50\n",
            "469/469 [==============================] - 2s 5ms/step - loss: 0.4057 - val_loss: 0.4052\n",
            "Epoch 30/50\n",
            "469/469 [==============================] - 3s 6ms/step - loss: 0.4056 - val_loss: 0.4052\n",
            "Epoch 31/50\n",
            "469/469 [==============================] - 2s 5ms/step - loss: 0.4055 - val_loss: 0.4050\n",
            "Epoch 32/50\n",
            "469/469 [==============================] - 3s 6ms/step - loss: 0.4054 - val_loss: 0.4049\n",
            "Epoch 33/50\n",
            "469/469 [==============================] - 2s 4ms/step - loss: 0.4053 - val_loss: 0.4049\n",
            "Epoch 34/50\n",
            "469/469 [==============================] - 2s 4ms/step - loss: 0.4052 - val_loss: 0.4048\n",
            "Epoch 35/50\n",
            "469/469 [==============================] - 2s 5ms/step - loss: 0.4052 - val_loss: 0.4048\n",
            "Epoch 36/50\n",
            "469/469 [==============================] - 3s 6ms/step - loss: 0.4051 - val_loss: 0.4047\n",
            "Epoch 37/50\n",
            "469/469 [==============================] - 3s 7ms/step - loss: 0.4050 - val_loss: 0.4046\n",
            "Epoch 38/50\n",
            "469/469 [==============================] - 2s 5ms/step - loss: 0.4050 - val_loss: 0.4044\n",
            "Epoch 39/50\n",
            "469/469 [==============================] - 2s 4ms/step - loss: 0.4049 - val_loss: 0.4044\n",
            "Epoch 40/50\n",
            "469/469 [==============================] - 2s 5ms/step - loss: 0.4048 - val_loss: 0.4045\n",
            "Epoch 41/50\n",
            "469/469 [==============================] - 2s 5ms/step - loss: 0.4048 - val_loss: 0.4044\n",
            "Epoch 42/50\n",
            "469/469 [==============================] - 2s 5ms/step - loss: 0.4047 - val_loss: 0.4043\n",
            "Epoch 43/50\n",
            "469/469 [==============================] - 2s 5ms/step - loss: 0.4047 - val_loss: 0.4044\n",
            "Epoch 44/50\n",
            "469/469 [==============================] - 2s 5ms/step - loss: 0.4046 - val_loss: 0.4042\n",
            "Epoch 45/50\n",
            "469/469 [==============================] - 2s 5ms/step - loss: 0.4046 - val_loss: 0.4042\n",
            "Epoch 46/50\n",
            "469/469 [==============================] - 3s 6ms/step - loss: 0.4045 - val_loss: 0.4041\n",
            "Epoch 47/50\n",
            "469/469 [==============================] - 2s 5ms/step - loss: 0.4045 - val_loss: 0.4041\n",
            "Epoch 48/50\n",
            "469/469 [==============================] - 2s 4ms/step - loss: 0.4044 - val_loss: 0.4041\n",
            "Epoch 49/50\n",
            "469/469 [==============================] - 2s 4ms/step - loss: 0.4044 - val_loss: 0.4040\n",
            "Epoch 50/50\n",
            "469/469 [==============================] - 2s 4ms/step - loss: 0.4043 - val_loss: 0.4039\n"
          ]
        },
        {
          "output_type": "execute_result",
          "data": {
            "text/plain": [
              "<keras.src.callbacks.History at 0x7833bbcb1480>"
            ]
          },
          "metadata": {},
          "execution_count": 44
        }
      ]
    },
    {
      "cell_type": "code",
      "source": [
        "# Evaluate the model\n",
        "mse = autoencoder.evaluate(X_test_flat, X_test_flat, verbose=0)\n",
        "print(f\"Mean Squared Error: {mse:.4f}\")\n",
        "\n",
        "# Denoise a sample image\n",
        "sample_image = X_test[0]\n",
        "noisy_image = sample_image + 0.3 * np.random.normal(loc=0.0, scale=1.0, size=sample_image.shape)\n",
        "encoded_image = encoder.predict(sample_image.reshape(1, -1))\n",
        "decoded_image = decoder.predict(encoded_image)[0]\n",
        "\n",
        "\n"
      ],
      "metadata": {
        "colab": {
          "base_uri": "https://localhost:8080/"
        },
        "id": "0UCuNdvRi-n3",
        "outputId": "a5bf6bb6-0c9e-40f5-dd0f-dfe5c9b4fbe6"
      },
      "execution_count": 47,
      "outputs": [
        {
          "output_type": "stream",
          "name": "stdout",
          "text": [
            "Mean Squared Error: 0.4039\n",
            "1/1 [==============================] - 0s 16ms/step\n",
            "1/1 [==============================] - 0s 17ms/step\n"
          ]
        }
      ]
    },
    {
      "cell_type": "code",
      "source": [
        "# Plot the original, noisy, and reconstructed images\n",
        "plt.figure(figsize=(12, 4))\n",
        "plt.subplot(1, 3, 1)\n",
        "plt.imshow(sample_image, cmap='gray')\n",
        "plt.title('Original Image')\n",
        "plt.subplot(1, 3, 2)\n",
        "plt.imshow(noisy_image, cmap='gray')\n",
        "plt.title('Noisy Image')\n",
        "plt.subplot(1, 3, 3)\n",
        "plt.imshow(decoded_image.reshape(28, 28), cmap='gray')\n",
        "plt.title('Reconstructed Image')\n",
        "plt.show()"
      ],
      "metadata": {
        "colab": {
          "base_uri": "https://localhost:8080/",
          "height": 356
        },
        "id": "m0Z7gcQ7jBht",
        "outputId": "b6e84350-ccf3-49f7-c3ba-4b591a76fade"
      },
      "execution_count": 48,
      "outputs": [
        {
          "output_type": "display_data",
          "data": {
            "text/plain": [
              "<Figure size 1200x400 with 3 Axes>"
            ],
            "image/png": "[encoded data removed]"
          },
          "metadata": {}
        }
      ]
    }
  ]
}