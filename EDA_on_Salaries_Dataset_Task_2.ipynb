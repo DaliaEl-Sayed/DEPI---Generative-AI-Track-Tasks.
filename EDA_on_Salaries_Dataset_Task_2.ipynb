{
  "nbformat": 4,
  "nbformat_minor": 0,
  "metadata": {
    "colab": {
      "provenance": [],
      "include_colab_link": true
    },
    "kernelspec": {
      "name": "python3",
      "display_name": "Python 3"
    },
    "language_info": {
      "name": "python"
    }
  },
  "cells": [
    {
      "cell_type": "markdown",
      "metadata": {
        "id": "view-in-github",
        "colab_type": "text"
      },
      "source": [
        "<a href=\"https://colab.research.google.com/github/DaliaEl-Sayed/DEPI---Generative-AI-Track-Tasks./blob/main/EDA_on_Salaries_Dataset_Task_2.ipynb\" target=\"_parent\"><img src=\"https://colab.research.google.com/assets/colab-badge.svg\" alt=\"Open In Colab\"/></a>"
      ]
    },
    {
      "cell_type": "markdown",
      "source": [
        "#Data Loading from Drive"
      ],
      "metadata": {
        "id": "ILBW7e0GMT1Q"
      }
    },
    {
      "cell_type": "code",
      "execution_count": 53,
      "metadata": {
        "id": "adaYxCb6MHYx"
      },
      "outputs": [],
      "source": [
        "import pandas as pd\n",
        "from sklearn.model_selection import train_test_split\n",
        "from sklearn.ensemble import RandomForestClassifier\n",
        "from sklearn.metrics import accuracy_score\n",
        "import tensorflow as tf\n",
        "from tensorflow.keras import backend as K\n",
        "import numpy as np\n",
        "import matplotlib.pyplot as plt\n",
        "from sklearn.preprocessing import LabelEncoder\n",
        "from sklearn.ensemble import RandomForestRegressor\n",
        "from sklearn.model_selection import train_test_split\n",
        "from sklearn.metrics import mean_absolute_error\n",
        "\n",
        "\n",
        "#https://drive.google.com/file/d/1v54nqQoexM00y0X6CqkEwV_aHIPMq11r/view?usp=sharing\n",
        "file_id = '1v54nqQoexM00y0X6CqkEwV_aHIPMq11r'\n",
        "url = f'https://drive.google.com/uc?export=download&id={file_id}'\n",
        "\n",
        "\n",
        "df = pd.read_csv(url)"
      ]
    },
    {
      "cell_type": "code",
      "source": [
        "print(df.head())"
      ],
      "metadata": {
        "id": "VPxSy7WTlbkO",
        "outputId": "a5492c5a-ba05-403b-9506-00b9adc5fc0d",
        "colab": {
          "base_uri": "https://localhost:8080/"
        }
      },
      "execution_count": 54,
      "outputs": [
        {
          "output_type": "stream",
          "name": "stdout",
          "text": [
            "   Id       EmployeeName                                        JobTitle  \\\n",
            "0   1     NATHANIEL FORD  GENERAL MANAGER-METROPOLITAN TRANSIT AUTHORITY   \n",
            "1   2       GARY JIMENEZ                 CAPTAIN III (POLICE DEPARTMENT)   \n",
            "2   3     ALBERT PARDINI                 CAPTAIN III (POLICE DEPARTMENT)   \n",
            "3   4  CHRISTOPHER CHONG            WIRE ROPE CABLE MAINTENANCE MECHANIC   \n",
            "4   5    PATRICK GARDNER    DEPUTY CHIEF OF DEPARTMENT,(FIRE DEPARTMENT)   \n",
            "\n",
            "     BasePay  OvertimePay   OtherPay  Benefits   TotalPay  TotalPayBenefits  \\\n",
            "0  167411.18         0.00  400184.25       NaN  567595.43         567595.43   \n",
            "1  155966.02    245131.88  137811.38       NaN  538909.28         538909.28   \n",
            "2  212739.13    106088.18   16452.60       NaN  335279.91         335279.91   \n",
            "3   77916.00     56120.71  198306.90       NaN  332343.61         332343.61   \n",
            "4  134401.60      9737.00  182234.59       NaN  326373.19         326373.19   \n",
            "\n",
            "   Year  Notes         Agency  Status  \n",
            "0  2011    NaN  San Francisco     NaN  \n",
            "1  2011    NaN  San Francisco     NaN  \n",
            "2  2011    NaN  San Francisco     NaN  \n",
            "3  2011    NaN  San Francisco     NaN  \n",
            "4  2011    NaN  San Francisco     NaN  \n"
          ]
        }
      ]
    },
    {
      "cell_type": "markdown",
      "source": [
        "#EDA"
      ],
      "metadata": {
        "id": "7_G7EWEKMIOL"
      }
    },
    {
      "cell_type": "code",
      "source": [
        "print(f'Shape of the DataFrame: {df.shape}')"
      ],
      "metadata": {
        "id": "b0bCRd6WgO-U",
        "outputId": "a1e1671a-c262-49a2-9314-926599680f35",
        "colab": {
          "base_uri": "https://localhost:8080/"
        }
      },
      "execution_count": 55,
      "outputs": [
        {
          "output_type": "stream",
          "name": "stdout",
          "text": [
            "Shape of the DataFrame: (148654, 13)\n"
          ]
        }
      ]
    },
    {
      "cell_type": "code",
      "source": [
        "print(df.info())"
      ],
      "metadata": {
        "id": "gsJLtxxDgPOd",
        "outputId": "948aa53c-a7a5-4a8d-d471-e753427e7bb7",
        "colab": {
          "base_uri": "https://localhost:8080/"
        }
      },
      "execution_count": 56,
      "outputs": [
        {
          "output_type": "stream",
          "name": "stdout",
          "text": [
            "<class 'pandas.core.frame.DataFrame'>\n",
            "RangeIndex: 148654 entries, 0 to 148653\n",
            "Data columns (total 13 columns):\n",
            " #   Column            Non-Null Count   Dtype  \n",
            "---  ------            --------------   -----  \n",
            " 0   Id                148654 non-null  int64  \n",
            " 1   EmployeeName      148654 non-null  object \n",
            " 2   JobTitle          148654 non-null  object \n",
            " 3   BasePay           148045 non-null  float64\n",
            " 4   OvertimePay       148650 non-null  float64\n",
            " 5   OtherPay          148650 non-null  float64\n",
            " 6   Benefits          112491 non-null  float64\n",
            " 7   TotalPay          148654 non-null  float64\n",
            " 8   TotalPayBenefits  148654 non-null  float64\n",
            " 9   Year              148654 non-null  int64  \n",
            " 10  Notes             0 non-null       float64\n",
            " 11  Agency            148654 non-null  object \n",
            " 12  Status            0 non-null       float64\n",
            "dtypes: float64(8), int64(2), object(3)\n",
            "memory usage: 14.7+ MB\n",
            "None\n"
          ]
        }
      ]
    },
    {
      "cell_type": "markdown",
      "source": [
        "#Data Preprocessing"
      ],
      "metadata": {
        "id": "wwj4ZAOIhlbN"
      }
    },
    {
      "cell_type": "code",
      "source": [
        "# Get the count of each unique value in the 'column_name' column\n",
        "value_counts = df['JobTitle'].value_counts()\n",
        "\n",
        "# Print the value counts\n",
        "print(value_counts)"
      ],
      "metadata": {
        "id": "2YBnzrjyk0vI",
        "outputId": "bb88352e-0c4a-46e5-a094-8c89ce6678f2",
        "colab": {
          "base_uri": "https://localhost:8080/"
        }
      },
      "execution_count": 57,
      "outputs": [
        {
          "output_type": "stream",
          "name": "stdout",
          "text": [
            "JobTitle\n",
            "Transit Operator                                  7036\n",
            "Special Nurse                                     4389\n",
            "Registered Nurse                                  3736\n",
            "Public Svc Aide-Public Works                      2518\n",
            "Police Officer 3                                  2421\n",
            "                                                  ... \n",
            "CHIEF HOUSING INSPECTOR                              1\n",
            "TRAFFIC SIGNAL OPERATOR                              1\n",
            "COURT COMPUTER FACILITIES COORDINATOR                1\n",
            "AUTOMOTIVE BODY AND FENDER WORKER SUPERVISOR I       1\n",
            "VICTIM & WITNESS TECHNICIAN                          1\n",
            "Name: count, Length: 2159, dtype: int64\n"
          ]
        }
      ]
    },
    {
      "cell_type": "code",
      "source": [
        "df = df.dropna(axis=1, how='all')\n"
      ],
      "metadata": {
        "id": "qC5hOtd5lm9a"
      },
      "execution_count": 58,
      "outputs": []
    },
    {
      "cell_type": "code",
      "source": [
        "print(f'Shape of the DataFrame after dropping empty column: {df.shape}')\n",
        "print(\"---------------------------------------------------------------\")\n",
        "print(df.info())"
      ],
      "metadata": {
        "id": "eEDpL2cdlnA3",
        "outputId": "daffe4ac-0314-4b6f-9388-931813072be3",
        "colab": {
          "base_uri": "https://localhost:8080/"
        }
      },
      "execution_count": 59,
      "outputs": [
        {
          "output_type": "stream",
          "name": "stdout",
          "text": [
            "Shape of the DataFrame after dropping empty column: (148654, 11)\n",
            "---------------------------------------------------------------\n",
            "<class 'pandas.core.frame.DataFrame'>\n",
            "RangeIndex: 148654 entries, 0 to 148653\n",
            "Data columns (total 11 columns):\n",
            " #   Column            Non-Null Count   Dtype  \n",
            "---  ------            --------------   -----  \n",
            " 0   Id                148654 non-null  int64  \n",
            " 1   EmployeeName      148654 non-null  object \n",
            " 2   JobTitle          148654 non-null  object \n",
            " 3   BasePay           148045 non-null  float64\n",
            " 4   OvertimePay       148650 non-null  float64\n",
            " 5   OtherPay          148650 non-null  float64\n",
            " 6   Benefits          112491 non-null  float64\n",
            " 7   TotalPay          148654 non-null  float64\n",
            " 8   TotalPayBenefits  148654 non-null  float64\n",
            " 9   Year              148654 non-null  int64  \n",
            " 10  Agency            148654 non-null  object \n",
            "dtypes: float64(6), int64(2), object(3)\n",
            "memory usage: 12.5+ MB\n",
            "None\n"
          ]
        }
      ]
    },
    {
      "cell_type": "code",
      "source": [
        "df.drop(['Id', 'EmployeeName', 'Agency'], axis=1, inplace=True)"
      ],
      "metadata": {
        "id": "o6kIm64rlnFD",
        "outputId": "3aa9b5bb-1c00-4dc2-d0c8-5d72295b3dd9",
        "colab": {
          "base_uri": "https://localhost:8080/"
        }
      },
      "execution_count": 60,
      "outputs": [
        {
          "output_type": "stream",
          "name": "stderr",
          "text": [
            "<ipython-input-60-190ab8611882>:1: SettingWithCopyWarning: \n",
            "A value is trying to be set on a copy of a slice from a DataFrame\n",
            "\n",
            "See the caveats in the documentation: https://pandas.pydata.org/pandas-docs/stable/user_guide/indexing.html#returning-a-view-versus-a-copy\n",
            "  df.drop(['Id', 'EmployeeName', 'Agency'], axis=1, inplace=True)\n"
          ]
        }
      ]
    },
    {
      "cell_type": "code",
      "source": [
        "print(f'Shape of the DataFrame after dropping empty column: {df.shape}')\n",
        "print(\"---------------------------------------------------------------\")\n",
        "print(df.info())"
      ],
      "metadata": {
        "id": "yEAkI-kQlnIK",
        "outputId": "085b350a-93dc-45c5-f543-2ab8bdfaa332",
        "colab": {
          "base_uri": "https://localhost:8080/"
        }
      },
      "execution_count": 61,
      "outputs": [
        {
          "output_type": "stream",
          "name": "stdout",
          "text": [
            "Shape of the DataFrame after dropping empty column: (148654, 8)\n",
            "---------------------------------------------------------------\n",
            "<class 'pandas.core.frame.DataFrame'>\n",
            "RangeIndex: 148654 entries, 0 to 148653\n",
            "Data columns (total 8 columns):\n",
            " #   Column            Non-Null Count   Dtype  \n",
            "---  ------            --------------   -----  \n",
            " 0   JobTitle          148654 non-null  object \n",
            " 1   BasePay           148045 non-null  float64\n",
            " 2   OvertimePay       148650 non-null  float64\n",
            " 3   OtherPay          148650 non-null  float64\n",
            " 4   Benefits          112491 non-null  float64\n",
            " 5   TotalPay          148654 non-null  float64\n",
            " 6   TotalPayBenefits  148654 non-null  float64\n",
            " 7   Year              148654 non-null  int64  \n",
            "dtypes: float64(6), int64(1), object(1)\n",
            "memory usage: 9.1+ MB\n",
            "None\n"
          ]
        }
      ]
    },
    {
      "cell_type": "code",
      "source": [
        "#split JobTitle to Job and Department\n",
        "df[['job', 'department']] = df['JobTitle'].str.split('(', expand=True)\n",
        "df.drop('JobTitle', axis=1, inplace=True)"
      ],
      "metadata": {
        "id": "lpNqnTXMlnLc"
      },
      "execution_count": 62,
      "outputs": []
    },
    {
      "cell_type": "code",
      "source": [
        "# Replacing missing department values with 'Other'\n",
        "df['department'] = df['department'].fillna('Other')"
      ],
      "metadata": {
        "id": "gGAHsFD_lnOz"
      },
      "execution_count": 63,
      "outputs": []
    },
    {
      "cell_type": "code",
      "source": [
        "print(f'Shape of the DataFrame after splitting JobTitle column: {df.shape}')\n",
        "print(\"-------------------------------------------------------------------\")\n",
        "print(df.info())"
      ],
      "metadata": {
        "id": "qjGX_7ExUVy-",
        "outputId": "71287aeb-1e62-4fbf-d442-e1d8f68be3bb",
        "colab": {
          "base_uri": "https://localhost:8080/"
        }
      },
      "execution_count": 64,
      "outputs": [
        {
          "output_type": "stream",
          "name": "stdout",
          "text": [
            "Shape of the DataFrame after splitting JobTitle column: (148654, 9)\n",
            "-------------------------------------------------------------------\n",
            "<class 'pandas.core.frame.DataFrame'>\n",
            "RangeIndex: 148654 entries, 0 to 148653\n",
            "Data columns (total 9 columns):\n",
            " #   Column            Non-Null Count   Dtype  \n",
            "---  ------            --------------   -----  \n",
            " 0   BasePay           148045 non-null  float64\n",
            " 1   OvertimePay       148650 non-null  float64\n",
            " 2   OtherPay          148650 non-null  float64\n",
            " 3   Benefits          112491 non-null  float64\n",
            " 4   TotalPay          148654 non-null  float64\n",
            " 5   TotalPayBenefits  148654 non-null  float64\n",
            " 6   Year              148654 non-null  int64  \n",
            " 7   job               148654 non-null  object \n",
            " 8   department        148654 non-null  object \n",
            "dtypes: float64(6), int64(1), object(2)\n",
            "memory usage: 10.2+ MB\n",
            "None\n"
          ]
        }
      ]
    },
    {
      "cell_type": "code",
      "source": [
        "# Encoding job titles and departments\n",
        "label_encoder = LabelEncoder()\n",
        "df['Job_encoded'] = label_encoder.fit_transform(df['job'])\n",
        "df['Department_encoded'] = label_encoder.fit_transform(df['department'])\n",
        "\n",
        "# Dropping original columns\n",
        "df.drop(['job', 'department'], axis=1, inplace=True)\n"
      ],
      "metadata": {
        "id": "VLcZyGGPt6hK"
      },
      "execution_count": 65,
      "outputs": []
    },
    {
      "cell_type": "code",
      "source": [
        "print(f'Shape of the DataFrame after encoding: {df.shape}')\n",
        "print(\"--------------------------------------------------\")\n",
        "print(df.info())"
      ],
      "metadata": {
        "colab": {
          "base_uri": "https://localhost:8080/"
        },
        "id": "Zl1VxkgSYDMc",
        "outputId": "f3ea29b1-8cea-47ed-c6a2-bb9c39c61b5f"
      },
      "execution_count": 66,
      "outputs": [
        {
          "output_type": "stream",
          "name": "stdout",
          "text": [
            "Shape of the DataFrame after encoding: (148654, 9)\n",
            "--------------------------------------------------\n",
            "<class 'pandas.core.frame.DataFrame'>\n",
            "RangeIndex: 148654 entries, 0 to 148653\n",
            "Data columns (total 9 columns):\n",
            " #   Column              Non-Null Count   Dtype  \n",
            "---  ------              --------------   -----  \n",
            " 0   BasePay             148045 non-null  float64\n",
            " 1   OvertimePay         148650 non-null  float64\n",
            " 2   OtherPay            148650 non-null  float64\n",
            " 3   Benefits            112491 non-null  float64\n",
            " 4   TotalPay            148654 non-null  float64\n",
            " 5   TotalPayBenefits    148654 non-null  float64\n",
            " 6   Year                148654 non-null  int64  \n",
            " 7   Job_encoded         148654 non-null  int64  \n",
            " 8   Department_encoded  148654 non-null  int64  \n",
            "dtypes: float64(6), int64(3)\n",
            "memory usage: 10.2 MB\n",
            "None\n"
          ]
        }
      ]
    },
    {
      "cell_type": "code",
      "source": [
        "# Convert columns with numeric data types to numeric\n",
        "numeric_cols = df.select_dtypes(include=['int', 'float']).columns\n",
        "df[numeric_cols] = df[numeric_cols].apply(pd.to_numeric)"
      ],
      "metadata": {
        "id": "hqtYaLRzo6Xr"
      },
      "execution_count": 67,
      "outputs": []
    },
    {
      "cell_type": "code",
      "source": [
        "print(f'Shape of the DataFrame after encoding: {df.shape}')\n",
        "print(\"--------------------------------------------------\")\n",
        "print(df.info())"
      ],
      "metadata": {
        "id": "cRa-ygZZo6kB",
        "outputId": "b6added4-803a-4fd8-b7ff-a83a864903cd",
        "colab": {
          "base_uri": "https://localhost:8080/"
        }
      },
      "execution_count": 68,
      "outputs": [
        {
          "output_type": "stream",
          "name": "stdout",
          "text": [
            "Shape of the DataFrame after encoding: (148654, 9)\n",
            "--------------------------------------------------\n",
            "<class 'pandas.core.frame.DataFrame'>\n",
            "RangeIndex: 148654 entries, 0 to 148653\n",
            "Data columns (total 9 columns):\n",
            " #   Column              Non-Null Count   Dtype  \n",
            "---  ------              --------------   -----  \n",
            " 0   BasePay             148045 non-null  float64\n",
            " 1   OvertimePay         148650 non-null  float64\n",
            " 2   OtherPay            148650 non-null  float64\n",
            " 3   Benefits            112491 non-null  float64\n",
            " 4   TotalPay            148654 non-null  float64\n",
            " 5   TotalPayBenefits    148654 non-null  float64\n",
            " 6   Year                148654 non-null  int64  \n",
            " 7   Job_encoded         148654 non-null  int64  \n",
            " 8   Department_encoded  148654 non-null  int64  \n",
            "dtypes: float64(6), int64(3)\n",
            "memory usage: 10.2 MB\n",
            "None\n"
          ]
        }
      ]
    },
    {
      "cell_type": "code",
      "source": [
        "print(df.head())"
      ],
      "metadata": {
        "id": "lKN9P0NmpjJs",
        "outputId": "94ee261b-0559-4da8-acfc-b7bd5a7c12ca",
        "colab": {
          "base_uri": "https://localhost:8080/"
        }
      },
      "execution_count": 69,
      "outputs": [
        {
          "output_type": "stream",
          "name": "stdout",
          "text": [
            "     BasePay  OvertimePay   OtherPay  Benefits   TotalPay  TotalPayBenefits  \\\n",
            "0  167411.18         0.00  400184.25       NaN  567595.43         567595.43   \n",
            "1  155966.02    245131.88  137811.38       NaN  538909.28         538909.28   \n",
            "2  212739.13    106088.18   16452.60       NaN  335279.91         335279.91   \n",
            "3   77916.00     56120.71  198306.90       NaN  332343.61         332343.61   \n",
            "4  134401.60      9737.00  182234.59       NaN  326373.19         326373.19   \n",
            "\n",
            "   Year  Job_encoded  Department_encoded  \n",
            "0  2011          831                   9  \n",
            "1  2011          293                  10  \n",
            "2  2011          293                  10  \n",
            "3  2011         2125                   9  \n",
            "4  2011          576                   5  \n"
          ]
        }
      ]
    },
    {
      "cell_type": "code",
      "source": [
        "# Missing Data Analysis\n",
        "print(f'Missing values per column:\\n{df.isna().sum()}')\n",
        "print(\"----------------------------------------\")\n",
        "print(f'Percentage of missing values per column:\\n{df.isna().mean() * 100}')"
      ],
      "metadata": {
        "id": "vnXwO4Rbppba",
        "outputId": "eb7558e3-5a9d-420f-8ed9-4c119a65df7e",
        "colab": {
          "base_uri": "https://localhost:8080/"
        }
      },
      "execution_count": 70,
      "outputs": [
        {
          "output_type": "stream",
          "name": "stdout",
          "text": [
            "Missing values per column:\n",
            "BasePay                 609\n",
            "OvertimePay               4\n",
            "OtherPay                  4\n",
            "Benefits              36163\n",
            "TotalPay                  0\n",
            "TotalPayBenefits          0\n",
            "Year                      0\n",
            "Job_encoded               0\n",
            "Department_encoded        0\n",
            "dtype: int64\n",
            "----------------------------------------\n",
            "Percentage of missing values per column:\n",
            "BasePay                0.409676\n",
            "OvertimePay            0.002691\n",
            "OtherPay               0.002691\n",
            "Benefits              24.326961\n",
            "TotalPay               0.000000\n",
            "TotalPayBenefits       0.000000\n",
            "Year                   0.000000\n",
            "Job_encoded            0.000000\n",
            "Department_encoded     0.000000\n",
            "dtype: float64\n"
          ]
        }
      ]
    },
    {
      "cell_type": "code",
      "source": [
        "#Handle missing values in Benefits\n",
        "df.loc[df['TotalPay'] == df['TotalPayBenefits'], 'Benefits'] = 0"
      ],
      "metadata": {
        "id": "yihoWhWYpplh"
      },
      "execution_count": 71,
      "outputs": []
    },
    {
      "cell_type": "code",
      "source": [
        "print(f'Missing values per column:\\n{df.isna().sum()}')"
      ],
      "metadata": {
        "id": "aarMeJQHqDpK",
        "outputId": "b473cbcc-26a6-4139-e681-e9e3add0fe8a",
        "colab": {
          "base_uri": "https://localhost:8080/"
        }
      },
      "execution_count": 72,
      "outputs": [
        {
          "output_type": "stream",
          "name": "stdout",
          "text": [
            "Missing values per column:\n",
            "BasePay               609\n",
            "OvertimePay             4\n",
            "OtherPay                4\n",
            "Benefits                0\n",
            "TotalPay                0\n",
            "TotalPayBenefits        0\n",
            "Year                    0\n",
            "Job_encoded             0\n",
            "Department_encoded      0\n",
            "dtype: int64\n"
          ]
        }
      ]
    },
    {
      "cell_type": "code",
      "source": [
        "#show nulls in OvertimePay and OtherPay\n",
        "rows_with_null_overtime = df[df['OvertimePay'].isna()]\n",
        "print(f'The rows where OvertimePay is null:\\n{rows_with_null_overtime}')\n",
        "\n",
        "rows_with_null_overtime = df[df['OtherPay'].isna()]\n",
        "print(f'The rows where OtherPay is null:\\n{rows_with_null_overtime}')"
      ],
      "metadata": {
        "id": "dMWydRG8qDwZ",
        "outputId": "0746f132-7128-4e4f-fe01-4afd38b2237b",
        "colab": {
          "base_uri": "https://localhost:8080/"
        }
      },
      "execution_count": 73,
      "outputs": [
        {
          "output_type": "stream",
          "name": "stdout",
          "text": [
            "The rows where OvertimePay is null:\n",
            "        BasePay  OvertimePay  OtherPay  Benefits  TotalPay  TotalPayBenefits  \\\n",
            "148646      NaN          NaN       NaN       0.0       0.0               0.0   \n",
            "148650      NaN          NaN       NaN       0.0       0.0               0.0   \n",
            "148651      NaN          NaN       NaN       0.0       0.0               0.0   \n",
            "148652      NaN          NaN       NaN       0.0       0.0               0.0   \n",
            "\n",
            "        Year  Job_encoded  Department_encoded  \n",
            "148646  2014         1274                   9  \n",
            "148650  2014         1274                   9  \n",
            "148651  2014         1274                   9  \n",
            "148652  2014         1274                   9  \n",
            "The rows where OtherPay is null:\n",
            "        BasePay  OvertimePay  OtherPay  Benefits  TotalPay  TotalPayBenefits  \\\n",
            "148646      NaN          NaN       NaN       0.0       0.0               0.0   \n",
            "148650      NaN          NaN       NaN       0.0       0.0               0.0   \n",
            "148651      NaN          NaN       NaN       0.0       0.0               0.0   \n",
            "148652      NaN          NaN       NaN       0.0       0.0               0.0   \n",
            "\n",
            "        Year  Job_encoded  Department_encoded  \n",
            "148646  2014         1274                   9  \n",
            "148650  2014         1274                   9  \n",
            "148651  2014         1274                   9  \n",
            "148652  2014         1274                   9  \n"
          ]
        }
      ]
    },
    {
      "cell_type": "code",
      "source": [
        "#Delete the rows where OvertimePay is null\n",
        "df = df.dropna(subset=['OvertimePay'])\n",
        "print(f'The shape of the DataFrame after deleting the rows: {df.shape}')\n",
        "print(f'Missing values per column:\\n{df.isna().sum()}')"
      ],
      "metadata": {
        "id": "6aq0Wvd5qDzw",
        "outputId": "11bdd6b7-8c91-405a-ec73-e07cfa0e8626",
        "colab": {
          "base_uri": "https://localhost:8080/"
        }
      },
      "execution_count": 74,
      "outputs": [
        {
          "output_type": "stream",
          "name": "stdout",
          "text": [
            "The shape of the DataFrame after deleting the rows: (148650, 9)\n",
            "Missing values per column:\n",
            "BasePay               605\n",
            "OvertimePay             0\n",
            "OtherPay                0\n",
            "Benefits                0\n",
            "TotalPay                0\n",
            "TotalPayBenefits        0\n",
            "Year                    0\n",
            "Job_encoded             0\n",
            "Department_encoded      0\n",
            "dtype: int64\n"
          ]
        }
      ]
    },
    {
      "cell_type": "code",
      "source": [
        "#Get the minimum and maximum values for the entire dataset\n",
        "min_values = df.min()\n",
        "max_values = df.max()\n",
        "\n",
        "print(f'Minimum values:\\n{min_values}')\n",
        "print(\"------------------------------\")\n",
        "print(\"------------------------------\")\n",
        "print(f'Maximum values:\\n{max_values}')\n"
      ],
      "metadata": {
        "id": "K_oY1l9lqqvD",
        "outputId": "3bbc8c44-9937-4267-81b6-e1b364fda104",
        "colab": {
          "base_uri": "https://localhost:8080/"
        }
      },
      "execution_count": 75,
      "outputs": [
        {
          "output_type": "stream",
          "name": "stdout",
          "text": [
            "Minimum values:\n",
            "BasePay               -166.01\n",
            "OvertimePay             -0.01\n",
            "OtherPay             -7058.59\n",
            "Benefits               -33.89\n",
            "TotalPay              -618.13\n",
            "TotalPayBenefits      -618.13\n",
            "Year                  2011.00\n",
            "Job_encoded              0.00\n",
            "Department_encoded       0.00\n",
            "dtype: float64\n",
            "------------------------------\n",
            "------------------------------\n",
            "Maximum values:\n",
            "BasePay               319275.01\n",
            "OvertimePay           245131.88\n",
            "OtherPay              400184.25\n",
            "Benefits               96570.66\n",
            "TotalPay              567595.43\n",
            "TotalPayBenefits      567595.43\n",
            "Year                    2014.00\n",
            "Job_encoded             2158.00\n",
            "Department_encoded        14.00\n",
            "dtype: float64\n"
          ]
        }
      ]
    },
    {
      "cell_type": "code",
      "source": [
        "# 5. Find the percentage of positive, 0, and negative values for relevant columns\n",
        "columns = ['BasePay', 'OvertimePay', 'OtherPay', 'Benefits', 'TotalPay', 'TotalPayBenefits']\n",
        "\n",
        "for col in columns:\n",
        "    positive_count = (df[col] > 0).sum()\n",
        "    zero_count = (df[col] == 0).sum()\n",
        "    negative_count = (df[col] < 0).sum()\n",
        "\n",
        "    total_count = len(df)\n",
        "\n",
        "    positive_percentage = (positive_count / total_count) * 100\n",
        "    zero_percentage = (zero_count / total_count) * 100\n",
        "    negative_percentage = (negative_count / total_count) * 100\n",
        "\n",
        "    print(f'Percentage of positive values in {col}: {positive_percentage:.2f}%')\n",
        "    print(f'Percentage of zero values in {col}: {zero_percentage:.2f}%')\n",
        "    print(f'Percentage of negative values in {col}: {negative_percentage:.2f}%')\n",
        "    print()"
      ],
      "metadata": {
        "id": "70SpSP1Dqq2T",
        "outputId": "fcaa964f-d2ab-4d45-8114-524f680c5bec",
        "colab": {
          "base_uri": "https://localhost:8080/"
        }
      },
      "execution_count": 76,
      "outputs": [
        {
          "output_type": "stream",
          "name": "stdout",
          "text": [
            "Percentage of positive values in BasePay: 98.71%\n",
            "Percentage of zero values in BasePay: 0.87%\n",
            "Percentage of negative values in BasePay: 0.01%\n",
            "\n",
            "Percentage of positive values in OvertimePay: 47.98%\n",
            "Percentage of zero values in OvertimePay: 52.02%\n",
            "Percentage of negative values in OvertimePay: 0.00%\n",
            "\n",
            "Percentage of positive values in OtherPay: 72.01%\n",
            "Percentage of zero values in OtherPay: 27.99%\n",
            "Percentage of negative values in OtherPay: 0.00%\n",
            "\n",
            "Percentage of positive values in Benefits: 74.51%\n",
            "Percentage of zero values in Benefits: 25.49%\n",
            "Percentage of negative values in Benefits: 0.00%\n",
            "\n",
            "Percentage of positive values in TotalPay: 99.75%\n",
            "Percentage of zero values in TotalPay: 0.24%\n",
            "Percentage of negative values in TotalPay: 0.00%\n",
            "\n",
            "Percentage of positive values in TotalPayBenefits: 99.98%\n",
            "Percentage of zero values in TotalPayBenefits: 0.02%\n",
            "Percentage of negative values in TotalPayBenefits: 0.00%\n",
            "\n"
          ]
        }
      ]
    },
    {
      "cell_type": "code",
      "source": [
        "columns = ['BasePay', 'OvertimePay', 'OtherPay', 'Benefits', 'TotalPay', 'TotalPayBenefits']\n",
        "\n",
        "for col in columns:\n",
        "    df = df[df[col] >= 0]"
      ],
      "metadata": {
        "id": "ULERoPZ3rSZF"
      },
      "execution_count": 77,
      "outputs": []
    },
    {
      "cell_type": "code",
      "source": [
        "# 5. Find the percentage of positive, 0, and negative values for relevant columns\n",
        "columns = ['BasePay', 'OvertimePay', 'OtherPay', 'Benefits', 'TotalPay', 'TotalPayBenefits']\n",
        "\n",
        "for col in columns:\n",
        "    positive_count = (df[col] > 0).sum()\n",
        "    zero_count = (df[col] == 0).sum()\n",
        "    negative_count = (df[col] < 0).sum()\n",
        "\n",
        "    total_count = len(df)\n",
        "\n",
        "    positive_percentage = (positive_count / total_count) * 100\n",
        "    zero_percentage = (zero_count / total_count) * 100\n",
        "    negative_percentage = (negative_count / total_count) * 100\n",
        "\n",
        "    print(f'Percentage of positive values in {col}: {positive_percentage:.2f}%')\n",
        "    print(f'Percentage of zero values in {col}: {zero_percentage:.2f}%')\n",
        "    print(f'Percentage of negative values in {col}: {negative_percentage:.2f}%')\n",
        "    print()"
      ],
      "metadata": {
        "id": "7YLWpC1UPBOS",
        "outputId": "d587f3d2-5df6-4169-ff48-09f5fa590995",
        "colab": {
          "base_uri": "https://localhost:8080/"
        }
      },
      "execution_count": 78,
      "outputs": [
        {
          "output_type": "stream",
          "name": "stdout",
          "text": [
            "Percentage of positive values in BasePay: 99.12%\n",
            "Percentage of zero values in BasePay: 0.88%\n",
            "Percentage of negative values in BasePay: 0.00%\n",
            "\n",
            "Percentage of positive values in OvertimePay: 48.17%\n",
            "Percentage of zero values in OvertimePay: 51.83%\n",
            "Percentage of negative values in OvertimePay: 0.00%\n",
            "\n",
            "Percentage of positive values in OtherPay: 72.10%\n",
            "Percentage of zero values in OtherPay: 27.90%\n",
            "Percentage of negative values in OtherPay: 0.00%\n",
            "\n",
            "Percentage of positive values in Benefits: 74.50%\n",
            "Percentage of zero values in Benefits: 25.50%\n",
            "Percentage of negative values in Benefits: 0.00%\n",
            "\n",
            "Percentage of positive values in TotalPay: 99.95%\n",
            "Percentage of zero values in TotalPay: 0.05%\n",
            "Percentage of negative values in TotalPay: 0.00%\n",
            "\n",
            "Percentage of positive values in TotalPayBenefits: 99.98%\n",
            "Percentage of zero values in TotalPayBenefits: 0.02%\n",
            "Percentage of negative values in TotalPayBenefits: 0.00%\n",
            "\n"
          ]
        }
      ]
    },
    {
      "cell_type": "code",
      "source": [
        "# Drop the rows where TotalPay is 0\n",
        "df = df[df['TotalPay'] != 0]"
      ],
      "metadata": {
        "id": "rRNaaRSLPc5a"
      },
      "execution_count": 79,
      "outputs": []
    },
    {
      "cell_type": "code",
      "source": [
        "# 5. Find the percentage of positive, 0, and negative values for relevant columns\n",
        "columns = ['BasePay', 'OvertimePay', 'OtherPay', 'Benefits', 'TotalPay', 'TotalPayBenefits']\n",
        "\n",
        "for col in columns:\n",
        "    positive_count = (df[col] > 0).sum()\n",
        "    zero_count = (df[col] == 0).sum()\n",
        "    negative_count = (df[col] < 0).sum()\n",
        "\n",
        "    total_count = len(df)\n",
        "\n",
        "    positive_percentage = (positive_count / total_count) * 100\n",
        "    zero_percentage = (zero_count / total_count) * 100\n",
        "    negative_percentage = (negative_count / total_count) * 100\n",
        "\n",
        "    print(f'Percentage of positive values in {col}: {positive_percentage:.2f}%')\n",
        "    print(f'Percentage of zero values in {col}: {zero_percentage:.2f}%')\n",
        "    print(f'Percentage of negative values in {col}: {negative_percentage:.2f}%')\n",
        "    print()"
      ],
      "metadata": {
        "id": "V-cpZqVoQDx5",
        "outputId": "abfe1941-2122-4801-b1da-e5d4af662810",
        "colab": {
          "base_uri": "https://localhost:8080/"
        }
      },
      "execution_count": 80,
      "outputs": [
        {
          "output_type": "stream",
          "name": "stdout",
          "text": [
            "Percentage of positive values in BasePay: 99.18%\n",
            "Percentage of zero values in BasePay: 0.82%\n",
            "Percentage of negative values in BasePay: 0.00%\n",
            "\n",
            "Percentage of positive values in OvertimePay: 48.20%\n",
            "Percentage of zero values in OvertimePay: 51.80%\n",
            "Percentage of negative values in OvertimePay: 0.00%\n",
            "\n",
            "Percentage of positive values in OtherPay: 72.14%\n",
            "Percentage of zero values in OtherPay: 27.86%\n",
            "Percentage of negative values in OtherPay: 0.00%\n",
            "\n",
            "Percentage of positive values in Benefits: 74.50%\n",
            "Percentage of zero values in Benefits: 25.50%\n",
            "Percentage of negative values in Benefits: 0.00%\n",
            "\n",
            "Percentage of positive values in TotalPay: 100.00%\n",
            "Percentage of zero values in TotalPay: 0.00%\n",
            "Percentage of negative values in TotalPay: 0.00%\n",
            "\n",
            "Percentage of positive values in TotalPayBenefits: 100.00%\n",
            "Percentage of zero values in TotalPayBenefits: 0.00%\n",
            "Percentage of negative values in TotalPayBenefits: 0.00%\n",
            "\n"
          ]
        }
      ]
    },
    {
      "cell_type": "code",
      "source": [
        "#Get the minimum and maximum values for the entire dataset\n",
        "min_values = df.min()\n",
        "max_values = df.max()\n",
        "\n",
        "print(f'Minimum values:\\n{min_values}')\n",
        "print(\"------------------------------\")\n",
        "print(\"------------------------------\")\n",
        "print(f'Maximum values:\\n{max_values}')\n"
      ],
      "metadata": {
        "id": "SMhYzNM3YXUS",
        "outputId": "bb73d7ef-931e-4238-cac2-652f7cc5b536",
        "colab": {
          "base_uri": "https://localhost:8080/"
        }
      },
      "execution_count": 81,
      "outputs": [
        {
          "output_type": "stream",
          "name": "stdout",
          "text": [
            "Minimum values:\n",
            "BasePay                  0.0\n",
            "OvertimePay              0.0\n",
            "OtherPay                 0.0\n",
            "Benefits                 0.0\n",
            "TotalPay                 0.3\n",
            "TotalPayBenefits         0.3\n",
            "Year                  2011.0\n",
            "Job_encoded              0.0\n",
            "Department_encoded       0.0\n",
            "dtype: float64\n",
            "------------------------------\n",
            "------------------------------\n",
            "Maximum values:\n",
            "BasePay               319275.01\n",
            "OvertimePay           245131.88\n",
            "OtherPay              400184.25\n",
            "Benefits               96570.66\n",
            "TotalPay              567595.43\n",
            "TotalPayBenefits      567595.43\n",
            "Year                    2014.00\n",
            "Job_encoded             2158.00\n",
            "Department_encoded        14.00\n",
            "dtype: float64\n"
          ]
        }
      ]
    },
    {
      "cell_type": "code",
      "source": [
        "print(f'The shape of the DataFrame after deleting the rows: {df.shape}')\n",
        "df.info()"
      ],
      "metadata": {
        "colab": {
          "base_uri": "https://localhost:8080/"
        },
        "id": "WJNwy_oAizSR",
        "outputId": "fbdd723f-bdb7-4a3c-9b0d-58d94d7f72c0"
      },
      "execution_count": 82,
      "outputs": [
        {
          "output_type": "stream",
          "name": "stdout",
          "text": [
            "The shape of the DataFrame after deleting the rows: (147951, 9)\n",
            "<class 'pandas.core.frame.DataFrame'>\n",
            "Index: 147951 entries, 0 to 148625\n",
            "Data columns (total 9 columns):\n",
            " #   Column              Non-Null Count   Dtype  \n",
            "---  ------              --------------   -----  \n",
            " 0   BasePay             147951 non-null  float64\n",
            " 1   OvertimePay         147951 non-null  float64\n",
            " 2   OtherPay            147951 non-null  float64\n",
            " 3   Benefits            147951 non-null  float64\n",
            " 4   TotalPay            147951 non-null  float64\n",
            " 5   TotalPayBenefits    147951 non-null  float64\n",
            " 6   Year                147951 non-null  int64  \n",
            " 7   Job_encoded         147951 non-null  int64  \n",
            " 8   Department_encoded  147951 non-null  int64  \n",
            "dtypes: float64(6), int64(3)\n",
            "memory usage: 11.3 MB\n"
          ]
        }
      ]
    },
    {
      "cell_type": "markdown",
      "source": [
        "train a model to predict the missing values"
      ],
      "metadata": {
        "id": "-IbwVos0hvMO"
      }
    },
    {
      "cell_type": "code",
      "source": [
        "\"\"\"  another way to get nulls in benifits without useing total pay column\n",
        "# Split the DataFrame into features and target\n",
        "X = data.drop('Benefits', axis=1)\n",
        "y = data['Benefits']\n",
        "\n",
        "# Split the data into training and testing sets\n",
        "X_train, X_test, y_train, y_test = train_test_split(X, y, test_size=0.2, random_state=42)\n",
        "\n",
        "# Create a Random Forest Regressor model\n",
        "model = RandomForestRegressor(n_estimators=100, random_state=42)\n",
        "\n",
        "# Train the model\n",
        "model.fit(X_train, y_train)\n",
        "\n",
        "# Make predictions on the test set\n",
        "predictions = model.predict(X_test)\n",
        "\n",
        "# Evaluate the model\n",
        "mae = mean_absolute_error(y_test, predictions)\n",
        "print('Mean Absolute Error:', mae) \"\"\""
      ],
      "metadata": {
        "colab": {
          "base_uri": "https://localhost:8080/",
          "height": 105
        },
        "id": "kjmbi7C-7sK_",
        "outputId": "f58b5f2c-4a26-46a3-d33b-856bdd650ceb"
      },
      "execution_count": 83,
      "outputs": [
        {
          "output_type": "execute_result",
          "data": {
            "text/plain": [
              "\"  another way to get nulls in benifits without useing total pay column\\n# Split the DataFrame into features and target\\nX = data.drop('Benefits', axis=1)\\ny = data['Benefits']\\n\\n# Split the data into training and testing sets\\nX_train, X_test, y_train, y_test = train_test_split(X, y, test_size=0.2, random_state=42)\\n\\n# Create a Random Forest Regressor model\\nmodel = RandomForestRegressor(n_estimators=100, random_state=42)\\n\\n# Train the model\\nmodel.fit(X_train, y_train)\\n\\n# Make predictions on the test set\\npredictions = model.predict(X_test)\\n\\n# Evaluate the model\\nmae = mean_absolute_error(y_test, predictions)\\nprint('Mean Absolute Error:', mae) \""
            ],
            "application/vnd.google.colaboratory.intrinsic+json": {
              "type": "string"
            }
          },
          "metadata": {},
          "execution_count": 83
        }
      ]
    },
    {
      "cell_type": "code",
      "source": [
        "\"\"\"\n",
        "from sklearn.metrics import r2_score\n",
        "\n",
        "# Calculate R2 score\n",
        "r2 = r2_score(y_test, predictions)\n",
        "print('R-squared Score:', r2) \"\"\""
      ],
      "metadata": {
        "colab": {
          "base_uri": "https://localhost:8080/",
          "height": 35
        },
        "id": "axMlazNn8pjf",
        "outputId": "e64b7806-f5be-490d-a4d4-65093ed37d9f"
      },
      "execution_count": 84,
      "outputs": [
        {
          "output_type": "execute_result",
          "data": {
            "text/plain": [
              "\"\\nfrom sklearn.metrics import r2_score\\n\\n# Calculate R2 score\\nr2 = r2_score(y_test, predictions)\\nprint('R-squared Score:', r2) \""
            ],
            "application/vnd.google.colaboratory.intrinsic+json": {
              "type": "string"
            }
          },
          "metadata": {},
          "execution_count": 84
        }
      ]
    },
    {
      "cell_type": "code",
      "source": [
        "\"\"\"\n",
        "# Use the trained model to predict the missing values in the 'Benefits' column\n",
        "df['Benefits_predicted'] = model.predict(df[X.columns])\n",
        "\n",
        "# Fill the missing values in the 'Benefits' column with the predicted values\n",
        "df['Benefits'].fillna(df['Benefits_predicted'], inplace=True)\n",
        "\n",
        "# Drop the 'Benefits_predicted' column\n",
        "df.drop('Benefits_predicted', axis=1, inplace=True)\n",
        "\n",
        "# Check for missing values\n",
        "df.isnull().sum() \"\"\"\n"
      ],
      "metadata": {
        "colab": {
          "base_uri": "https://localhost:8080/",
          "height": 70
        },
        "id": "bHc5jD8tVvr_",
        "outputId": "6f358e4d-7214-4e97-b1e9-f22b3d655080"
      },
      "execution_count": 85,
      "outputs": [
        {
          "output_type": "execute_result",
          "data": {
            "text/plain": [
              "\"\\n# Use the trained model to predict the missing values in the 'Benefits' column\\ndf['Benefits_predicted'] = model.predict(df[X.columns])\\n\\n# Fill the missing values in the 'Benefits' column with the predicted values\\ndf['Benefits'].fillna(df['Benefits_predicted'], inplace=True)\\n\\n# Drop the 'Benefits_predicted' column\\ndf.drop('Benefits_predicted', axis=1, inplace=True)\\n\\n# Check for missing values\\ndf.isnull().sum() \""
            ],
            "application/vnd.google.colaboratory.intrinsic+json": {
              "type": "string"
            }
          },
          "metadata": {},
          "execution_count": 85
        }
      ]
    },
    {
      "cell_type": "markdown",
      "source": [
        "#Modeling"
      ],
      "metadata": {
        "id": "TWCi6Rn5iPno"
      }
    },
    {
      "cell_type": "code",
      "source": [
        "\n",
        "from sklearn.preprocessing import StandardScaler\n",
        "def r_squared(y_true, y_pred):\n",
        "    SS_res = K.sum(K.square(y_true - y_pred))\n",
        "    SS_tot = K.sum(K.square(y_true - K.mean(y_true)))\n",
        "    return (1 - SS_res/(SS_tot + K.epsilon()))\n",
        "\n",
        "# Separate features and target\n",
        "X = df.drop('TotalPay', axis=1)\n",
        "y = df['TotalPay']\n",
        "\n",
        "# Standardize features\n",
        "scaler = StandardScaler()\n",
        "X_scaled = scaler.fit_transform(X)\n",
        "\n",
        "# Split data into training and testing sets\n",
        "X_train, X_test, y_train, y_test = train_test_split(X_scaled, y, test_size=0.2, random_state=42)\n",
        "\n",
        "# Define the ANN model\n",
        "model = tf.keras.models.Sequential()\n",
        "model.add(tf.keras.layers.Dense(16, activation='relu', input_shape=(X_train.shape[1],)))\n",
        "model.add(tf.keras.layers.Dense(32, activation='relu'))\n",
        "model.add(tf.keras.layers.Dense(1))\n",
        "\n",
        "# Compile the model\n",
        "model.compile(optimizer='adam', loss='mean_squared_error', metrics=[r_squared])\n"
      ],
      "metadata": {
        "id": "VXsE7rLinpuX"
      },
      "execution_count": 86,
      "outputs": []
    },
    {
      "cell_type": "code",
      "source": [
        "model.summary()"
      ],
      "metadata": {
        "colab": {
          "base_uri": "https://localhost:8080/"
        },
        "id": "IA8LZWgggxBg",
        "outputId": "6ca057de-23af-4475-ef96-ce28ef4c4b1d"
      },
      "execution_count": 87,
      "outputs": [
        {
          "output_type": "stream",
          "name": "stdout",
          "text": [
            "Model: \"sequential_3\"\n",
            "_________________________________________________________________\n",
            " Layer (type)                Output Shape              Param #   \n",
            "=================================================================\n",
            " dense_9 (Dense)             (None, 16)                144       \n",
            "                                                                 \n",
            " dense_10 (Dense)            (None, 32)                544       \n",
            "                                                                 \n",
            " dense_11 (Dense)            (None, 1)                 33        \n",
            "                                                                 \n",
            "=================================================================\n",
            "Total params: 721 (2.82 KB)\n",
            "Trainable params: 721 (2.82 KB)\n",
            "Non-trainable params: 0 (0.00 Byte)\n",
            "_________________________________________________________________\n"
          ]
        }
      ]
    },
    {
      "cell_type": "markdown",
      "source": [
        "#Training"
      ],
      "metadata": {
        "id": "aO28FdvTiZPo"
      }
    },
    {
      "cell_type": "code",
      "source": [
        "\n",
        "# Train the model\n",
        "history = model.fit(X_train, y_train,validation_split=0.5, epochs=20, batch_size=128)\n"
      ],
      "metadata": {
        "colab": {
          "base_uri": "https://localhost:8080/"
        },
        "id": "Lc9enIbVgnqC",
        "outputId": "2024c3a2-1c09-496a-fb47-f66efffcfd66"
      },
      "execution_count": 88,
      "outputs": [
        {
          "output_type": "stream",
          "name": "stdout",
          "text": [
            "Epoch 1/20\n",
            "463/463 [==============================] - 3s 5ms/step - loss: 8151912960.0000 - r_squared: -2.2594 - val_loss: 8049731072.0000 - val_r_squared: -2.2319\n",
            "Epoch 2/20\n",
            "463/463 [==============================] - 2s 4ms/step - loss: 7691668480.0000 - r_squared: -2.0764 - val_loss: 7156911616.0000 - val_r_squared: -1.8753\n",
            "Epoch 3/20\n",
            "463/463 [==============================] - 1s 3ms/step - loss: 6286467072.0000 - r_squared: -1.5214 - val_loss: 5307592704.0000 - val_r_squared: -1.1365\n",
            "Epoch 4/20\n",
            "463/463 [==============================] - 1s 3ms/step - loss: 4233907200.0000 - r_squared: -0.7014 - val_loss: 3244975872.0000 - val_r_squared: -0.3110\n",
            "Epoch 5/20\n",
            "463/463 [==============================] - 1s 3ms/step - loss: 2466886400.0000 - r_squared: 0.0067 - val_loss: 1892988160.0000 - val_r_squared: 0.2327\n",
            "Epoch 6/20\n",
            "463/463 [==============================] - 1s 3ms/step - loss: 1535610496.0000 - r_squared: 0.3803 - val_loss: 1308149632.0000 - val_r_squared: 0.4702\n",
            "Epoch 7/20\n",
            "463/463 [==============================] - 1s 3ms/step - loss: 1120243840.0000 - r_squared: 0.5470 - val_loss: 989274560.0000 - val_r_squared: 0.5999\n",
            "Epoch 8/20\n",
            "463/463 [==============================] - 1s 3ms/step - loss: 842094912.0000 - r_squared: 0.6606 - val_loss: 732343296.0000 - val_r_squared: 0.7040\n",
            "Epoch 9/20\n",
            "463/463 [==============================] - 2s 4ms/step - loss: 608574400.0000 - r_squared: 0.7546 - val_loss: 514713248.0000 - val_r_squared: 0.7921\n",
            "Epoch 10/20\n",
            "463/463 [==============================] - 3s 6ms/step - loss: 419539584.0000 - r_squared: 0.8307 - val_loss: 348398240.0000 - val_r_squared: 0.8594\n",
            "Epoch 11/20\n",
            "463/463 [==============================] - 1s 3ms/step - loss: 284963744.0000 - r_squared: 0.8856 - val_loss: 239192416.0000 - val_r_squared: 0.9035\n",
            "Epoch 12/20\n",
            "463/463 [==============================] - 1s 3ms/step - loss: 203023920.0000 - r_squared: 0.9182 - val_loss: 177621072.0000 - val_r_squared: 0.9284\n",
            "Epoch 13/20\n",
            "463/463 [==============================] - 1s 3ms/step - loss: 157064016.0000 - r_squared: 0.9371 - val_loss: 142040352.0000 - val_r_squared: 0.9427\n",
            "Epoch 14/20\n",
            "463/463 [==============================] - 1s 3ms/step - loss: 128119440.0000 - r_squared: 0.9487 - val_loss: 117547976.0000 - val_r_squared: 0.9526\n",
            "Epoch 15/20\n",
            "463/463 [==============================] - 1s 3ms/step - loss: 107017192.0000 - r_squared: 0.9568 - val_loss: 99072992.0000 - val_r_squared: 0.9601\n",
            "Epoch 16/20\n",
            "463/463 [==============================] - 1s 3ms/step - loss: 90836432.0000 - r_squared: 0.9631 - val_loss: 84650504.0000 - val_r_squared: 0.9659\n",
            "Epoch 17/20\n",
            "463/463 [==============================] - 1s 3ms/step - loss: 78065920.0000 - r_squared: 0.9687 - val_loss: 72987464.0000 - val_r_squared: 0.9706\n",
            "Epoch 18/20\n",
            "463/463 [==============================] - 2s 5ms/step - loss: 67488352.0000 - r_squared: 0.9730 - val_loss: 63122728.0000 - val_r_squared: 0.9746\n",
            "Epoch 19/20\n",
            "463/463 [==============================] - 2s 3ms/step - loss: 58345656.0000 - r_squared: 0.9767 - val_loss: 54366664.0000 - val_r_squared: 0.9781\n",
            "Epoch 20/20\n",
            "463/463 [==============================] - 1s 3ms/step - loss: 50154316.0000 - r_squared: 0.9799 - val_loss: 46613420.0000 - val_r_squared: 0.9812\n"
          ]
        }
      ]
    },
    {
      "cell_type": "markdown",
      "source": [
        "#Evaluation"
      ],
      "metadata": {
        "id": "VoxTw86Dihuv"
      }
    },
    {
      "cell_type": "code",
      "source": [
        "r2_score = history.history['r_squared'][-1]\n",
        "print('R-squared Score:', r2_score)"
      ],
      "metadata": {
        "colab": {
          "base_uri": "https://localhost:8080/"
        },
        "id": "TvuwGx5If0dk",
        "outputId": "126b01f8-8734-4073-f4c5-c87294da6cde"
      },
      "execution_count": 89,
      "outputs": [
        {
          "output_type": "stream",
          "name": "stdout",
          "text": [
            "R-squared Score: 0.9799124598503113\n"
          ]
        }
      ]
    },
    {
      "cell_type": "code",
      "source": [
        "# Evaluate the model\n",
        "loss = model.evaluate(X_test, y_test)\n",
        "print('Test loss:', loss)\n",
        "\n",
        "# Make predictions on the test set\n",
        "y_pred = model.predict(X_test)\n",
        "\n",
        "# Plot the actual and predicted values\n",
        "plt.scatter(y_test, y_pred)\n",
        "plt.xlabel('Actual Values')\n",
        "plt.ylabel('Predicted Values')\n",
        "plt.show()"
      ],
      "metadata": {
        "colab": {
          "base_uri": "https://localhost:8080/",
          "height": 503
        },
        "id": "-QcsgdN9fIB1",
        "outputId": "f962cf2c-db26-4783-c1cc-acc4a5df98dc"
      },
      "execution_count": 90,
      "outputs": [
        {
          "output_type": "stream",
          "name": "stdout",
          "text": [
            "925/925 [==============================] - 1s 1ms/step - loss: 48929332.0000 - r_squared: 0.9790\n",
            "Test loss: [48929332.0, 0.9789990782737732]\n",
            "925/925 [==============================] - 1s 1ms/step\n"
          ]
        },
        {
          "output_type": "display_data",
          "data": {
            "text/plain": [
              "<Figure size 640x480 with 1 Axes>"
            ],
            "image/png": "[encoded data removed]"
          },
          "metadata": {}
        }
      ]
    },
    {
      "cell_type": "code",
      "source": [
        "#Plot the loss and accuracy curves\n",
        "plt.figure(figsize=(12, 6))\n",
        "plt.subplot(1, 2, 1)\n",
        "plt.plot(history.history['loss'], label='Loss')\n",
        "plt.plot(history.history['val_loss'], label='Validation Loss')\n",
        "plt.xlabel('Epoch')\n",
        "plt.ylabel('Loss')\n",
        "plt.legend()\n",
        "\n",
        "plt.subplot(1, 2, 2)\n",
        "plt.plot(history.history['r_squared'], label='R-squared')\n",
        "plt.plot(history.history['val_r_squared'], label='Validation R-squared')\n",
        "plt.xlabel('Epoch')\n",
        "plt.ylabel('R-squared')\n",
        "plt.legend()\n",
        "\n",
        "plt.show()"
      ],
      "metadata": {
        "colab": {
          "base_uri": "https://localhost:8080/",
          "height": 557
        },
        "id": "5qKsuou9nf-L",
        "outputId": "38bb65a6-8a3f-4278-81e5-40d6b209ddd2"
      },
      "execution_count": 91,
      "outputs": [
        {
          "output_type": "display_data",
          "data": {
            "text/plain": [
              "<Figure size 1200x600 with 2 Axes>"
            ],
            "image/png": "[encoded data removed]"
          },
          "metadata": {}
        }
      ]
    }
  ]
}